{
 "cells": [
  {
   "cell_type": "code",
   "execution_count": 1,
   "id": "4fdfd7fb-93d8-41bb-85db-d611b9d86c9a",
   "metadata": {},
   "outputs": [
    {
     "name": "stdout",
     "output_type": "stream",
     "text": [
      "方法1で読み込んだデータ:\n",
      "[{'Key': '002', 'Value': ['009', '005', '008', '016', '003', '017', '055', '018', '021', '024', '025', '020', '027', '403', '046', '026', '069', '031', '022', '029']}, {'Key': '003', 'Value': ['005', '002', '009', '008', '001', '004', '010', '055', '014', '018']}]\n",
      "キー '019' に対応する値: ['002', '008', '009', '017', '024', '005', '016', '021', '025', '026', '020', '027', '022', '018', '069', '031', '029']\n",
      "出力するid:\n",
      "['002', '008', '009', '017', '024', '016', '021', '025', '020', '027', '022', '018', '069', '031', '029']\n"
     ]
    }
   ],
   "source": [
    "from fastapi import FastAPI\n",
    "import pandas as pd , json\n",
    "\n",
    "# FastAPIインスタンスの作成\n",
    "app = FastAPI()\n",
    "\n",
    "#データ読み込み\n",
    "json_filename1 = 'output_basket.json'\n",
    "\n",
    "# JSONファイルの読み込み\n",
    "with open(json_filename1, 'r', encoding='utf-8') as f:\n",
    "    data_loaded_method1 = json.load(f)\n",
    "\n",
    "print(\"方法1で読み込んだデータ:\")\n",
    "print(data_loaded_method1[0:2])\n",
    "\n",
    "#検索元ppv\n",
    "ppv_id = '019'\n",
    "\n",
    "#購入済 ()\n",
    "member_id = ''\n",
    "ppv_paid = ['005', '026' , '036']\n",
    "\n",
    "\n",
    "# 該当するエントリを検索\n",
    "for entry in data_loaded_method1:\n",
    "    if entry['Key'] == ppv_id:\n",
    "        value = entry['Value']\n",
    "        break\n",
    "\n",
    "# 結果を表示\n",
    "if value is not None:\n",
    "    print(f\"キー '{ppv_id}' に対応する値: {value}\")\n",
    "else:\n",
    "    print(f\"キー '{ppv_id}' は見つかりませんでした。\")\n",
    "\n",
    "\n",
    "print(\"出力するid:\")\n",
    "\n",
    "#オススメから購入したid を除外。\n",
    "data = [v for v in value if v not in ppv_paid ] \n",
    "\n",
    "\n",
    "print(data)\n"
   ]
  },
  {
   "cell_type": "code",
   "execution_count": 11,
   "id": "2bece4ed-29d9-43ff-bb33-e8e9e9100010",
   "metadata": {},
   "outputs": [
    {
     "data": {
      "text/plain": [
       "0     002\n",
       "1     003\n",
       "2     009\n",
       "3     403\n",
       "4     035\n",
       "5     036\n",
       "6     008\n",
       "7     001\n",
       "8     010\n",
       "9     020\n",
       "10    024\n",
       "11    026\n",
       "12    025\n",
       "13    052\n",
       "14    402\n",
       "15      5\n",
       "16    027\n",
       "17    028\n",
       "18    021\n",
       "19    022\n",
       "20    061\n",
       "21    055\n",
       "22    046\n",
       "23    004\n",
       "24    015\n",
       "25    016\n",
       "26    031\n",
       "27    032\n",
       "28    059\n",
       "29    049\n",
       "30    058\n",
       "31    610\n",
       "32    060\n",
       "33    041\n",
       "34    029\n",
       "35    006\n",
       "36    007\n",
       "37    012\n",
       "38    018\n",
       "39    019\n",
       "40    023\n",
       "41    051\n",
       "42    045\n",
       "Name: Key, dtype: object"
      ]
     },
     "execution_count": 11,
     "metadata": {},
     "output_type": "execute_result"
    }
   ],
   "source": [
    "df['Key'][0:]"
   ]
  },
  {
   "cell_type": "code",
   "execution_count": null,
   "id": "d9523226-7bbe-482a-be4d-025410db491a",
   "metadata": {},
   "outputs": [],
   "source": []
  }
 ],
 "metadata": {
  "kernelspec": {
   "display_name": "Python 3 (ipykernel)",
   "language": "python",
   "name": "python3"
  },
  "language_info": {
   "codemirror_mode": {
    "name": "ipython",
    "version": 3
   },
   "file_extension": ".py",
   "mimetype": "text/x-python",
   "name": "python",
   "nbconvert_exporter": "python",
   "pygments_lexer": "ipython3",
   "version": "3.9.21"
  }
 },
 "nbformat": 4,
 "nbformat_minor": 5
}
